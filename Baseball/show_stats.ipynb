{
 "cells": [
  {
   "cell_type": "code",
   "execution_count": 1,
   "id": "7c04925b-6997-4fa6-b378-358515ba5137",
   "metadata": {},
   "outputs": [
    {
     "name": "stdout",
     "output_type": "stream",
     "text": [
      "           Name Age   PA   OPS\n",
      "10  Matt McLain  23  403  .864\n"
     ]
    }
   ],
   "source": [
    "import pandas as pd\n",
    "import matplotlib.pyplot as plt\n",
    "\n",
    "\n",
    "## Read in teams and data\n",
    "data = pd.read_csv('stats/teams.csv')\n",
    "data_dict = data.to_dict(orient='records')\n",
    "\n",
    "teams = {}\n",
    "for team in data_dict:\n",
    "    teams.update({team['Name'] : team})\n",
    "\n",
    "# print(teams)\n",
    "\n",
    "## For each team get their stats into a dataframe and append to respecitve dicts\n",
    "for team in teams:\n",
    "    url = 'https://www.baseball-reference.com/teams/' + teams[team]['Acronym'] + '/2023.shtml'\n",
    "    \n",
    "    team_stats = pd.read_html(url)\n",
    "    \n",
    "    batting_stats = team_stats[0]\n",
    "    pitching_stats = team_stats[1]\n",
    "\n",
    "    teams[team]['Batting Stats'] = batting_stats\n",
    "    teams[team]['Pitching Stats'] = pitching_stats\n",
    "\n",
    "reds_batting = teams['Cincinnati Reds']['Batting Stats']\n",
    "print(reds_batting.loc[reds_batting['Name'] == 'Matt McLain'][['Name', 'Age', 'PA', 'OPS']])"
   ]
  },
  {
   "cell_type": "code",
   "execution_count": 16,
   "id": "c19dade1-ed86-4edf-bd70-5337b6642627",
   "metadata": {},
   "outputs": [
    {
     "name": "stdout",
     "output_type": "stream",
     "text": [
      "0     44\n",
      "1     31\n",
      "2     98\n",
      "3     81\n",
      "4     34\n",
      "5     86\n",
      "6     95\n",
      "7     75\n",
      "8     62\n",
      "10    64\n",
      "11    43\n",
      "12    20\n",
      "13    17\n",
      "14    24\n",
      "15     6\n",
      "16     7\n",
      "17     8\n",
      "18     8\n",
      "19     3\n",
      "20     8\n",
      "21     1\n",
      "22     3\n",
      "23     1\n",
      "25     0\n",
      "Name: R, dtype: object\n",
      "0     44\n",
      "1     31\n",
      "2     98\n",
      "3     81\n",
      "4     34\n",
      "5     86\n",
      "6     95\n",
      "7     75\n",
      "8     62\n",
      "10    64\n",
      "11    43\n",
      "12    20\n",
      "13    17\n",
      "14    24\n",
      "15     6\n",
      "16     7\n",
      "17     8\n",
      "18     8\n",
      "19     3\n",
      "20     8\n",
      "21     1\n",
      "22     3\n",
      "23     1\n",
      "25     0\n",
      "Name: R, dtype: int64\n",
      "1    0.299\n",
      "Name: OBP, dtype: float64\n"
     ]
    },
    {
     "data": {
      "image/png": "[encoded data removed]",
      "text/plain": [
       "<Figure size 640x480 with 1 Axes>"
      ]
     },
     "metadata": {},
     "output_type": "display_data"
    }
   ],
   "source": [
    "CHC_stats = teams['Chicago Cubs']['Batting Stats']\n",
    "\n",
    "CHC_stats = CHC_stats[CHC_stats['Rk'] != 'Rk']\n",
    "CHC_stats = CHC_stats[CHC_stats['Rk'].notnull()]\n",
    "CHC_stats = CHC_stats[CHC_stats['OBP'].notnull()]\n",
    "print(CHC_stats['R'])\n",
    "\n",
    "CHC_stats['OBP'] = pd.to_numeric(CHC_stats['OBP'])\n",
    "CHC_stats['R'] = pd.to_numeric(CHC_stats['R'])\n",
    "CHC_stats['H'] = pd.to_numeric(CHC_stats['H'])\n",
    "\n",
    "print(CHC_stats['R'])\n",
    "\n",
    "print(CHC_stats.loc[CHC_stats['Name'] == 'Trey Mancini']['OBP'])\n",
    "\n",
    "# scatter plot\n",
    "CHC_stats.plot(kind='scatter',\n",
    "        x='R',\n",
    "        y='H',\n",
    "        color='red')\n",
    " \n",
    "# # set the title\n",
    "plt.title('Runs vs. Hits')\n",
    " \n",
    "# # show the plot\n",
    "plt.show()"
   ]
  },
  {
   "cell_type": "code",
   "execution_count": null,
   "id": "722b7a53-4cfe-42dd-b2c4-3c77fbd52d92",
   "metadata": {},
   "outputs": [],
   "source": []
  }
 ],
 "metadata": {
  "kernelspec": {
   "display_name": "Python 3 (ipykernel)",
   "language": "python",
   "name": "python3"
  },
  "language_info": {
   "codemirror_mode": {
    "name": "ipython",
    "version": 3
   },
   "file_extension": ".py",
   "mimetype": "text/x-python",
   "name": "python",
   "nbconvert_exporter": "python",
   "pygments_lexer": "ipython3",
   "version": "3.9.4"
  }
 },
 "nbformat": 4,
 "nbformat_minor": 5
}
